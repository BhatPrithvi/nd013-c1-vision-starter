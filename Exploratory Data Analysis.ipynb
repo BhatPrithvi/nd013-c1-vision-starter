{
 "cells": [
  {
   "cell_type": "markdown",
   "metadata": {},
   "source": [
    "# Explore the dataset\n",
    "\n",
    "\n",
    "In this notebook, we will perform an EDA (Exploratory Data Analysis) on the processed Waymo dataset (data in the `processed` folder). In the first part, you will create a function to display "
   ]
  },
  {
   "cell_type": "code",
   "execution_count": 1,
   "metadata": {},
   "outputs": [],
   "source": [
    "import glob\n",
    "import os\n",
    "from utils import get_dataset\n",
    "from  matplotlib import use as pltuse\n",
    "import matplotlib.pyplot as plt\n",
    "import matplotlib.patches as patches\n",
    "#from matplotlib.patches import Rectangle\n",
    "from PIL import Image\n"
   ]
  },
  {
   "cell_type": "code",
   "execution_count": 2,
   "metadata": {},
   "outputs": [],
   "source": [
    "import numpy"
   ]
  },
  {
   "cell_type": "code",
   "execution_count": 3,
   "metadata": {},
   "outputs": [
    {
     "name": "stdout",
     "output_type": "stream",
     "text": [
      "INFO:tensorflow:Reading unweighted datasets: ['/home/workspace/data/train/*.tfrecord']\n",
      "INFO:tensorflow:Reading record datasets for input file: ['/home/workspace/data/train/*.tfrecord']\n",
      "INFO:tensorflow:Number of filenames to read: 86\n",
      "WARNING:tensorflow:From /data/virtual_envs/sdc-c1-gpu-augment/lib/python3.7/site-packages/object_detection/builders/dataset_builder.py:105: parallel_interleave (from tensorflow.python.data.experimental.ops.interleave_ops) is deprecated and will be removed in a future version.\n",
      "Instructions for updating:\n",
      "Use `tf.data.Dataset.interleave(map_func, cycle_length, block_length, num_parallel_calls=tf.data.experimental.AUTOTUNE)` instead. If sloppy execution is desired, use `tf.data.Options.experimental_deterministic`.\n",
      "WARNING:tensorflow:From /data/virtual_envs/sdc-c1-gpu-augment/lib/python3.7/site-packages/object_detection/builders/dataset_builder.py:237: DatasetV1.map_with_legacy_function (from tensorflow.python.data.ops.dataset_ops) is deprecated and will be removed in a future version.\n",
      "Instructions for updating:\n",
      "Use `tf.data.Dataset.map()\n"
     ]
    }
   ],
   "source": [
    "dataset = get_dataset(\"/home/workspace/data/train/*.tfrecord\")"
   ]
  },
  {
   "cell_type": "markdown",
   "metadata": {},
   "source": [
    "## Write a function to display an image and the bounding boxes\n",
    "\n",
    "Implement the `display_instances` function below. This function takes a batch as an input and display an image with its corresponding bounding boxes. The only requirement is that the classes should be color coded (eg, vehicles in red, pedestrians in blue, cyclist in green)."
   ]
  },
  {
   "cell_type": "code",
   "execution_count": 4,
   "metadata": {},
   "outputs": [],
   "source": [
    "def display_instances(batch):\n",
    "    \"\"\"\n",
    "    This function takes a batch from the dataset and display the image with \n",
    "    the associated bounding boxes.\n",
    "    \"\"\"\n",
    "    # ADD CODE HERE\n",
    "    # color mapping of classes\n",
    "    colormap = {1: [1,0,0], 2: [0,1,0], 4: [0,0,1]}\n",
    "    for image in batch:\n",
    "        fig, ax = plt.subplots()\n",
    "        img = image['image']\n",
    "        ax.imshow(img)\n",
    "        scale = image['image'].shape[0]\n",
    "        bboxes = image['groundtruth_boxes']\n",
    "        classes = image['groundtruth_classes']\n",
    "        for cl, bb in zip(classes, bboxes):\n",
    "            y1, x1, y2, x2 = bb * scale\n",
    "            rec = patches.Rectangle((x1, y1), x2- x1, y2-y1, facecolor='none', \n",
    "                            edgecolor=colormap[cl.numpy()])\n",
    "            ax.add_patch(rec)\n",
    "        pltuse('TkAgg')\n",
    "        plt.show()\n",
    "\n"
   ]
  },
  {
   "cell_type": "markdown",
   "metadata": {},
   "source": [
    "## Display 10 images \n",
    "\n",
    "Using the dataset created in the second cell and the function you just coded, display 10 random images with the associated bounding boxes. You can use the methods `take` and `shuffle` on the dataset."
   ]
  },
  {
   "cell_type": "code",
   "execution_count": null,
   "metadata": {},
   "outputs": [],
   "source": [
    "## STUDENT SOLUTION HERE\n",
    "dataset_shuffle = dataset.shuffle(200)\n",
    "display_instances(dataset_shuffle.take(11))\n"
   ]
  },
  {
   "cell_type": "markdown",
   "metadata": {},
   "source": [
    "## Additional EDA\n",
    "\n",
    "In this last part, you are free to perform any additional analysis of the dataset. What else would like to know about the data?\n",
    "For example, think about data distribution. So far, you have only looked at a single file..."
   ]
  },
  {
   "cell_type": "code",
   "execution_count": null,
   "metadata": {},
   "outputs": [],
   "source": [
    "\n"
   ]
  },
  {
   "cell_type": "code",
   "execution_count": 6,
   "metadata": {},
   "outputs": [],
   "source": [
    "#Environmental lighting analysis\n",
    "#'Based on https://natespilman.com/blog/making-a-histogram-image-light-with-matplotlib/'\n",
    "#LightImage = 0\n",
    "#DarkImage = 0\n",
    "Brightness =[]\n",
    "for image in dataset.take(5000):\n",
    "    ImageArray = numpy.array(image['image'])\n",
    "    Brightness.append(numpy.sum (ImageArray) /(ImageArray.shape[0]+ImageArray.shape[1]+ImageArray.shape[2]))\n",
    "fig, ax = plt.subplots()\n",
    "ax.hist(Brightness, bins=5, edgecolor='white')\n",
    "ax.set_xlabel(\"Brightness Classification\")\n",
    "ax.set_ylabel(\"Image density\")\n",
    "ax.set_title = ('Image Density vs Brightness')\n",
    "rec = ax.patches\n",
    "bar_label = ['Very Dark', 'Dark', 'Normal', 'Bright', 'Very Bright']\n",
    "for rec, label in zip(rec,bar_label):\n",
    "    height = rec.get_height()\n",
    "    # \n",
    "    ax.text(rec.get_x() + rec.get_width()/2, height+1, label, ha = 'center', va ='bottom')\n",
    "plt.show()\n",
    "    \n"
   ]
  },
  {
   "cell_type": "code",
   "execution_count": 7,
   "metadata": {},
   "outputs": [],
   "source": [
    "# Find the ratio of vehicles, cycists and pedestrians\n",
    "Cyclists = 0\n",
    "Pedestrians = 0\n",
    "Vehicles = 0\n",
    "for image in dataset.take(10000):\n",
    "    Vehicles += list((image['groundtruth_classes']).numpy()).count(1)\n",
    "    Pedestrians += list((image['groundtruth_classes']).numpy()).count(2)\n",
    "    Cyclists += list((image['groundtruth_classes']).numpy()).count(4)\n",
    "labels= 'Vehicles', 'Pedestrians', 'Cyclists'\n",
    "TotalDensity = [Vehicles, Pedestrians, Cyclists]\n",
    "fig, ax = plt.subplots()\n",
    "ax.pie(TotalDensity, labels =labels, autopct = '%1.1f%%')\n",
    "plt.show()\n"
   ]
  },
  {
   "cell_type": "code",
   "execution_count": 8,
   "metadata": {},
   "outputs": [],
   "source": [
    "#Sort images with no classes, only two classes and all classes\n",
    "#ImagesEmpty = 0\n",
    "#ImagesVehCy = 0\n",
    "#ImagesVehPed = 0\n",
    "#ImagesPedCy = 0\n",
    "#ImagesVehPedCy = 0\n",
    "#for image in dataset.take(10000):     \n",
    " #   Vehicles += list((image['groundtruth_classes']).numpy()).count(1)\n",
    " #   Pedestrians += list((image['groundtruth_classes']).numpy()).count(2)\n",
    "    #Cyclists += list((image['groundtruth_classes']).numpy()).count(4)\n",
    "    #ListComb = [Vehicles, Cyclists, Pedestrians]\n",
    "    #if ListComb.count(0) == 3:\n",
    "    #    ImagesEmpty += 1\n",
    "   # else if ListComb.count(0) == 0:\n",
    "     #   ImagesVehPedCy += 1\n",
    "    #else if ListComb.count(0) == 1:\n",
    "        \n",
    "        \n",
    "    \n",
    "    #if Vehicles == 0 and Pedestrians == 0 and Cyclists == 0:\n",
    "    #    ImagesEmpty += 1\n",
    "   # else if Vehicles > 0 and Pedestrians > 0 and Cyclist > 0:\n",
    "        #ImagesVehPedCy += 1\n",
    "\n",
    "    "
   ]
  },
  {
   "cell_type": "code",
   "execution_count": null,
   "metadata": {},
   "outputs": [],
   "source": []
  },
  {
   "cell_type": "code",
   "execution_count": null,
   "metadata": {},
   "outputs": [],
   "source": []
  }
 ],
 "metadata": {
  "kernelspec": {
   "display_name": "Python 3",
   "language": "python",
   "name": "python3"
  },
  "language_info": {
   "codemirror_mode": {
    "name": "ipython",
    "version": 3
   },
   "file_extension": ".py",
   "mimetype": "text/x-python",
   "name": "python",
   "nbconvert_exporter": "python",
   "pygments_lexer": "ipython3",
   "version": "3.7.3"
  },
  "vscode": {
   "interpreter": {
    "hash": "da639cbcc596dfc84c983512b747ed56396f0691bef0a49f5eee19c2add2e417"
   }
  }
 },
 "nbformat": 4,
 "nbformat_minor": 4
}
